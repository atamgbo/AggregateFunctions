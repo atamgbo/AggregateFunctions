{
 "cells": [
  {
   "cell_type": "code",
   "execution_count": 1,
   "id": "ef6ce518",
   "metadata": {},
   "outputs": [],
   "source": [
    "from pyspark.sql import SparkSession\n",
    "import getpass\n",
    "username = getpass.getuser()\n",
    "spark = SparkSession. \\\n",
    "    builder. \\\n",
    "    config('spark.ui.port','0'). \\\n",
    "    config(\"spark.sql.warehouse.dir\",f\"/user/itv010130/warehouse\"). \\\n",
    "    enableHiveSupport(). \\\n",
    "    master('yarn'). \\\n",
    "    getOrCreate()"
   ]
  },
  {
   "cell_type": "code",
   "execution_count": 22,
   "id": "7f501d38",
   "metadata": {},
   "outputs": [],
   "source": [
    "orders_df = spark.read \\\n",
    ".format(\"csv\") \\\n",
    ".option(\"header\",\"true\") \\\n",
    ".option(\"inferSchema\",\"true\") \\\n",
    ".load(\"/public/trendytech/datasets/order_data.csv\")"
   ]
  },
  {
   "cell_type": "code",
   "execution_count": 4,
   "id": "ef3d6fee",
   "metadata": {},
   "outputs": [
    {
     "name": "stdout",
     "output_type": "stream",
     "text": [
      "+---------+---------+--------------------+--------+---------------+---------+----------+--------------+\n",
      "|InvoiceNo|StockCode|         Description|Quantity|    InvoiceDate|UnitPrice|CustomerID|       Country|\n",
      "+---------+---------+--------------------+--------+---------------+---------+----------+--------------+\n",
      "|   536378|     null|PACK OF 60 DINOSA...|      24|01-12-2010 9.37|     0.55|     14688|United Kingdom|\n",
      "|   536378|     null|PACK OF 60 PINK P...|      24|01-12-2010 9.37|     0.55|     14688|United Kingdom|\n",
      "|   536378|    84991|60 TEATIME FAIRY ...|      24|01-12-2010 9.37|     0.55|     14688|United Kingdom|\n",
      "|   536378|   84519A|TOMATO CHARLIE+LO...|       6|01-12-2010 9.37|     2.95|     14688|United Kingdom|\n",
      "|   536378|   85183B|CHARLIE & LOLA WA...|      48|01-12-2010 9.37|     1.25|     14688|United Kingdom|\n",
      "+---------+---------+--------------------+--------+---------------+---------+----------+--------------+\n",
      "only showing top 5 rows\n",
      "\n"
     ]
    }
   ],
   "source": [
    "orders_df.show(5)"
   ]
  },
  {
   "cell_type": "markdown",
   "id": "aa66fd7b",
   "metadata": {},
   "source": [
    "# Aggregate functions"
   ]
  },
  {
   "cell_type": "markdown",
   "id": "6c831af7",
   "metadata": {},
   "source": [
    "## 1. Simple Aggregation"
   ]
  },
  {
   "cell_type": "markdown",
   "id": "ef37cd3e",
   "metadata": {},
   "source": [
    "### Count the total number of records in the dataset, distinct invoiceno, sum of quantities, avg unit price"
   ]
  },
  {
   "cell_type": "markdown",
   "id": "e335783d",
   "metadata": {},
   "source": [
    "### a. Programatic style"
   ]
  },
  {
   "cell_type": "code",
   "execution_count": 6,
   "id": "e5cdfcd6",
   "metadata": {},
   "outputs": [],
   "source": [
    "from pyspark.sql.functions import *"
   ]
  },
  {
   "cell_type": "code",
   "execution_count": 17,
   "id": "2f9c2c98",
   "metadata": {},
   "outputs": [
    {
     "name": "stdout",
     "output_type": "stream",
     "text": [
      "+----------+--------------+--------------+-----------------+\n",
      "|total_rows|unique_invoice|total_quantity|    avg_unitprice|\n",
      "+----------+--------------+--------------+-----------------+\n",
      "|    541782|         25858|       5175855|4.611565323321931|\n",
      "+----------+--------------+--------------+-----------------+\n",
      "\n"
     ]
    }
   ],
   "source": [
    "orders_df.select(count(\"*\").alias(\"total_rows\"),countDistinct(\"invoiceno\").alias(\"unique_invoice\"),sum(\"quantity\").alias(\"total_quantity\"),avg(\"unitprice\").alias(\"avg_unitprice\")).show()"
   ]
  },
  {
   "cell_type": "markdown",
   "id": "38ee606e",
   "metadata": {},
   "source": [
    "### b. Select expression"
   ]
  },
  {
   "cell_type": "code",
   "execution_count": 16,
   "id": "7b107e5c",
   "metadata": {},
   "outputs": [
    {
     "name": "stdout",
     "output_type": "stream",
     "text": [
      "+----------+--------------+--------------+-----------------+\n",
      "|total_rows|unique_invoice|total_quantity|    avg_unitprice|\n",
      "+----------+--------------+--------------+-----------------+\n",
      "|    541782|         25858|       5175855|4.611565323321931|\n",
      "+----------+--------------+--------------+-----------------+\n",
      "\n"
     ]
    }
   ],
   "source": [
    "orders_df.selectExpr(\"count(*) as total_rows\",\"count(distinct(invoiceno)) as unique_invoice\",\"sum(quantity) as total_quantity\",\"avg(unitprice) as avg_unitprice\").show()"
   ]
  },
  {
   "cell_type": "markdown",
   "id": "3dc004b4",
   "metadata": {},
   "source": [
    "### c. Spark sql"
   ]
  },
  {
   "cell_type": "code",
   "execution_count": 23,
   "id": "42908135",
   "metadata": {},
   "outputs": [],
   "source": [
    "orders_df.createOrReplaceTempView(\"orders\")"
   ]
  },
  {
   "cell_type": "code",
   "execution_count": 25,
   "id": "e87a9481",
   "metadata": {},
   "outputs": [
    {
     "name": "stdout",
     "output_type": "stream",
     "text": [
      "+----------+--------------+--------------+-----------------+\n",
      "|total_rows|unique_invoice|total_quantity|    avg_unitprice|\n",
      "+----------+--------------+--------------+-----------------+\n",
      "|    541782|         25858|       5175855|4.611565323321929|\n",
      "+----------+--------------+--------------+-----------------+\n",
      "\n"
     ]
    }
   ],
   "source": [
    "spark.sql(\"select count(*) as total_rows,count(distinct(invoiceno)) as unique_invoice,sum(quantity) as total_quantity,avg(unitprice) as avg_unitprice from orders\").show()"
   ]
  },
  {
   "cell_type": "markdown",
   "id": "30e153ee",
   "metadata": {},
   "source": [
    "## 2. Grouping Aggregation"
   ]
  },
  {
   "cell_type": "markdown",
   "id": "ef1a85e7",
   "metadata": {},
   "source": [
    "### Total quantity, total invoice price of orders grouped by invoice number and country"
   ]
  },
  {
   "cell_type": "markdown",
   "id": "0021b553",
   "metadata": {},
   "source": [
    "### a. Programatic style"
   ]
  },
  {
   "cell_type": "code",
   "execution_count": 29,
   "id": "4053c76f",
   "metadata": {},
   "outputs": [],
   "source": [
    "result_df = orders_df.groupBy(\"country\",\"invoiceno\").agg(sum(\"quantity\").alias(\"total_quantity\"),sum(expr(\"quantity * unitprice\")).alias(\"invoice_cost\")).sort(\"invoiceno\")"
   ]
  },
  {
   "cell_type": "code",
   "execution_count": 32,
   "id": "02e544ad",
   "metadata": {},
   "outputs": [
    {
     "name": "stdout",
     "output_type": "stream",
     "text": [
      "+--------------+---------+--------------+------------------+\n",
      "|       country|invoiceno|total_quantity|      invoice_cost|\n",
      "+--------------+---------+--------------+------------------+\n",
      "|United Kingdom|   536378|           242|192.78000000000003|\n",
      "|United Kingdom|   536380|            24|              34.8|\n",
      "|United Kingdom|   536381|           198|449.97999999999996|\n",
      "|United Kingdom|   536382|           134|430.59999999999997|\n",
      "|United Kingdom|   536384|           190|             489.6|\n",
      "|United Kingdom|   536385|            53|            130.85|\n",
      "|United Kingdom|   536386|           236|508.20000000000005|\n",
      "|United Kingdom|   536387|          1440|           3193.92|\n",
      "|United Kingdom|   536388|           108|            226.14|\n",
      "|     Australia|   536389|           107|            358.25|\n",
      "|United Kingdom|   536390|          1568|           1825.74|\n",
      "|United Kingdom|   536392|           103|318.14000000000004|\n",
      "|United Kingdom|   536393|             8|              79.6|\n",
      "|United Kingdom|   536394|           544|1024.6800000000003|\n",
      "|United Kingdom|   536395|           260| 507.8800000000001|\n",
      "|United Kingdom|   536396|           102|376.36000000000007|\n",
      "|United Kingdom|   536397|            60|             279.0|\n",
      "|United Kingdom|   536398|           150|426.56000000000006|\n",
      "|United Kingdom|   536399|            12|22.200000000000003|\n",
      "|United Kingdom|   536400|            12|              17.4|\n",
      "+--------------+---------+--------------+------------------+\n",
      "only showing top 20 rows\n",
      "\n"
     ]
    }
   ],
   "source": [
    "result_df.show()"
   ]
  },
  {
   "cell_type": "markdown",
   "id": "15e33565",
   "metadata": {},
   "source": [
    "### b. Select expression"
   ]
  },
  {
   "cell_type": "code",
   "execution_count": 44,
   "id": "2ec349a4",
   "metadata": {},
   "outputs": [],
   "source": [
    "result_df = orders_df.groupBy(\"country\",\"invoiceno\").agg(expr(\"sum(quantity) as total_quantity\"),expr(\"sum(quantity * unitprice) as invoice_cost\")).sort(\"invoiceno\")"
   ]
  },
  {
   "cell_type": "code",
   "execution_count": 45,
   "id": "39370f49",
   "metadata": {},
   "outputs": [
    {
     "name": "stdout",
     "output_type": "stream",
     "text": [
      "+--------------+---------+--------------+------------------+\n",
      "|       country|invoiceno|total_quantity|      invoice_cost|\n",
      "+--------------+---------+--------------+------------------+\n",
      "|United Kingdom|   536378|           242|192.78000000000003|\n",
      "|United Kingdom|   536380|            24|              34.8|\n",
      "|United Kingdom|   536381|           198|449.97999999999996|\n",
      "|United Kingdom|   536382|           134|430.59999999999997|\n",
      "|United Kingdom|   536384|           190|             489.6|\n",
      "|United Kingdom|   536385|            53|            130.85|\n",
      "|United Kingdom|   536386|           236|508.20000000000005|\n",
      "|United Kingdom|   536387|          1440|           3193.92|\n",
      "|United Kingdom|   536388|           108|            226.14|\n",
      "|     Australia|   536389|           107|            358.25|\n",
      "|United Kingdom|   536390|          1568|           1825.74|\n",
      "|United Kingdom|   536392|           103|318.14000000000004|\n",
      "|United Kingdom|   536393|             8|              79.6|\n",
      "|United Kingdom|   536394|           544|1024.6800000000003|\n",
      "|United Kingdom|   536395|           260| 507.8800000000001|\n",
      "|United Kingdom|   536396|           102|376.36000000000007|\n",
      "|United Kingdom|   536397|            60|             279.0|\n",
      "|United Kingdom|   536398|           150|426.56000000000006|\n",
      "|United Kingdom|   536399|            12|22.200000000000003|\n",
      "|United Kingdom|   536400|            12|              17.4|\n",
      "+--------------+---------+--------------+------------------+\n",
      "only showing top 20 rows\n",
      "\n"
     ]
    }
   ],
   "source": [
    "result_df.show()"
   ]
  },
  {
   "cell_type": "markdown",
   "id": "fc642215",
   "metadata": {},
   "source": [
    "### c. Spark sql"
   ]
  },
  {
   "cell_type": "code",
   "execution_count": 46,
   "id": "2027492c",
   "metadata": {},
   "outputs": [],
   "source": [
    "orders_df.createOrReplaceTempView(\"orders\")"
   ]
  },
  {
   "cell_type": "code",
   "execution_count": 50,
   "id": "26528f4e",
   "metadata": {},
   "outputs": [
    {
     "name": "stdout",
     "output_type": "stream",
     "text": [
      "+--------------+---------+--------------+------------------+\n",
      "|       country|invoiceno|total_quantity|      invoice_cost|\n",
      "+--------------+---------+--------------+------------------+\n",
      "|United Kingdom|   536378|           184|192.78000000000003|\n",
      "|United Kingdom|   536380|            24|              34.8|\n",
      "|United Kingdom|   536381|           114|            449.98|\n",
      "|United Kingdom|   536382|            86|             430.6|\n",
      "|United Kingdom|   536384|           123|             489.6|\n",
      "|United Kingdom|   536385|            31|            130.85|\n",
      "|United Kingdom|   536386|           136|508.20000000000005|\n",
      "|United Kingdom|   536387|           624|           3193.92|\n",
      "|United Kingdom|   536388|            27|            226.14|\n",
      "|     Australia|   536389|            59|            358.25|\n",
      "|United Kingdom|   536390|           876|           1825.74|\n",
      "|United Kingdom|   536392|            63|            318.14|\n",
      "|United Kingdom|   536393|             8|              79.6|\n",
      "|United Kingdom|   536394|           232|1024.6800000000003|\n",
      "|United Kingdom|   536395|           116|            507.88|\n",
      "|United Kingdom|   536396|            32|            376.36|\n",
      "|United Kingdom|   536397|            60|             279.0|\n",
      "|United Kingdom|   536398|            65|            426.56|\n",
      "|United Kingdom|   536399|             6|22.200000000000003|\n",
      "|United Kingdom|   536400|            12|              17.4|\n",
      "+--------------+---------+--------------+------------------+\n",
      "only showing top 20 rows\n",
      "\n"
     ]
    }
   ],
   "source": [
    "spark.sql(\"select country,invoiceno,sum(distinct(quantity)) as total_quantity,sum(quantity * unitprice) as invoice_cost from orders group by country,invoiceno order by invoiceno\").show()"
   ]
  },
  {
   "cell_type": "code",
   "execution_count": 72,
   "id": "e3e961c9",
   "metadata": {},
   "outputs": [],
   "source": [
    "spark.stop()"
   ]
  },
  {
   "cell_type": "markdown",
   "id": "813b7680",
   "metadata": {},
   "source": [
    "## 3. Windowing Aggregation"
   ]
  },
  {
   "cell_type": "code",
   "execution_count": 2,
   "id": "c8445d44",
   "metadata": {},
   "outputs": [],
   "source": [
    "orders_df2 = spark.read \\\n",
    ".format(\"csv\") \\\n",
    ".option(\"header\",\"true\") \\\n",
    ".option(\"inferSchema\",\"true\") \\\n",
    ".load(\"/public/trendytech/datasets/windowdatamodified.csv\")"
   ]
  },
  {
   "cell_type": "code",
   "execution_count": 34,
   "id": "0da6e568",
   "metadata": {},
   "outputs": [
    {
     "name": "stdout",
     "output_type": "stream",
     "text": [
      "+---------------+-------+-----------+-------------+------------+\n",
      "|        country|weeknum|numinvoices|totalquantity|invoicevalue|\n",
      "+---------------+-------+-----------+-------------+------------+\n",
      "|      Australia|     49|          1|          214|       258.9|\n",
      "|      Australia|     48|          1|          107|      358.25|\n",
      "|      Australia|     50|          2|          133|      387.95|\n",
      "|        Austria|     50|          2|            3|      257.04|\n",
      "|        Bahrain|     51|          1|           54|      205.74|\n",
      "|        Belgium|     48|          1|          528|       800.0|\n",
      "|        Belgium|     50|          2|          285|      625.16|\n",
      "|        Belgium|     51|          2|          942|       800.0|\n",
      "|Channel Islands|     49|          1|           80|      363.53|\n",
      "|         Cyprus|     50|          1|          917|     1590.82|\n",
      "|        Denmark|     49|          1|          454|      1281.5|\n",
      "|        Finland|     50|          1|         1254|       892.8|\n",
      "|         France|     49|          9|         2303|       500.0|\n",
      "|         France|     48|          4|         1299|       500.0|\n",
      "|         France|     51|          5|          847|       500.0|\n",
      "|         France|     50|          6|          529|      537.32|\n",
      "|        Germany|     48|         11|         1795|      1600.0|\n",
      "|        Germany|     50|         15|         1973|      1800.0|\n",
      "|        Germany|     49|         12|         1852|      1800.0|\n",
      "|        Germany|     51|          5|         1103|      1600.0|\n",
      "+---------------+-------+-----------+-------------+------------+\n",
      "only showing top 20 rows\n",
      "\n"
     ]
    }
   ],
   "source": [
    "orders_df2.sort(\"country\").show()"
   ]
  },
  {
   "cell_type": "code",
   "execution_count": 3,
   "id": "fb4855d0",
   "metadata": {},
   "outputs": [],
   "source": [
    "from pyspark.sql import *"
   ]
  },
  {
   "cell_type": "code",
   "execution_count": 36,
   "id": "bbd41e52",
   "metadata": {},
   "outputs": [],
   "source": [
    "my_orders = Window.partitionBy(\"country\").orderBy(\"weeknum\").rowsBetween(Window.unboundedPreceding,Window.currentRow)"
   ]
  },
  {
   "cell_type": "code",
   "execution_count": 37,
   "id": "e54a4068",
   "metadata": {},
   "outputs": [],
   "source": [
    "result = orders_df2.withColumn(\"running_total\",sum(\"invoicevalue\").over(my_orders))"
   ]
  },
  {
   "cell_type": "code",
   "execution_count": 38,
   "id": "44fdbe72",
   "metadata": {},
   "outputs": [
    {
     "name": "stdout",
     "output_type": "stream",
     "text": [
      "+-------+-------+-----------+-------------+------------+------------------+\n",
      "|country|weeknum|numinvoices|totalquantity|invoicevalue|     running_total|\n",
      "+-------+-------+-----------+-------------+------------+------------------+\n",
      "| Sweden|     50|          3|         3714|      2646.3|            2646.3|\n",
      "|Germany|     48|         11|         1795|      1600.0|            1600.0|\n",
      "|Germany|     49|         12|         1852|      1800.0|            3400.0|\n",
      "|Germany|     50|         15|         1973|      1800.0|            5200.0|\n",
      "|Germany|     51|          5|         1103|      1600.0|            6800.0|\n",
      "| France|     48|          4|         1299|       500.0|             500.0|\n",
      "| France|     49|          9|         2303|       500.0|            1000.0|\n",
      "| France|     50|          6|          529|      537.32|1537.3200000000002|\n",
      "| France|     51|          5|          847|       500.0|2037.3200000000002|\n",
      "|Belgium|     48|          1|          528|       800.0|             800.0|\n",
      "|Belgium|     50|          2|          285|      625.16|1425.1599999999999|\n",
      "|Belgium|     51|          2|          942|       800.0|           2225.16|\n",
      "|Finland|     50|          1|         1254|       892.8|             892.8|\n",
      "|  India|     48|          7|         2822|       300.0|             300.0|\n",
      "|  India|     49|          5|         1280|      3284.1|            3584.1|\n",
      "|  India|     50|          5|         1184|     2321.78|           5905.88|\n",
      "|  India|     51|          5|           95|       300.0|           6205.88|\n",
      "|  Italy|     48|          1|          164|       427.8|             427.8|\n",
      "|  Italy|     49|          1|           -2|       -17.0|             410.8|\n",
      "|  Italy|     51|          1|          131|       383.7|             794.5|\n",
      "+-------+-------+-----------+-------------+------------+------------------+\n",
      "only showing top 20 rows\n",
      "\n"
     ]
    }
   ],
   "source": [
    "result.show()"
   ]
  },
  {
   "cell_type": "code",
   "execution_count": 39,
   "id": "217ae89a",
   "metadata": {},
   "outputs": [],
   "source": [
    "my_orders2 = Window.partitionBy(\"country\").orderBy(\"weeknum\").rowsBetween(-2,Window.currentRow)"
   ]
  },
  {
   "cell_type": "code",
   "execution_count": 40,
   "id": "86adb5cf",
   "metadata": {},
   "outputs": [],
   "source": [
    "result2 = orders_df2.withColumn(\"running_total\",sum(\"invoicevalue\").over(my_orders2))"
   ]
  },
  {
   "cell_type": "code",
   "execution_count": 41,
   "id": "4937d0a4",
   "metadata": {},
   "outputs": [
    {
     "name": "stdout",
     "output_type": "stream",
     "text": [
      "+-------+-------+-----------+-------------+------------+------------------+\n",
      "|country|weeknum|numinvoices|totalquantity|invoicevalue|     running_total|\n",
      "+-------+-------+-----------+-------------+------------+------------------+\n",
      "| Sweden|     50|          3|         3714|      2646.3|            2646.3|\n",
      "|Germany|     48|         11|         1795|      1600.0|            1600.0|\n",
      "|Germany|     49|         12|         1852|      1800.0|            3400.0|\n",
      "|Germany|     50|         15|         1973|      1800.0|            5200.0|\n",
      "|Germany|     51|          5|         1103|      1600.0|            5200.0|\n",
      "| France|     48|          4|         1299|       500.0|             500.0|\n",
      "| France|     49|          9|         2303|       500.0|            1000.0|\n",
      "| France|     50|          6|          529|      537.32|1537.3200000000002|\n",
      "| France|     51|          5|          847|       500.0|1537.3200000000002|\n",
      "|Belgium|     48|          1|          528|       800.0|             800.0|\n",
      "|Belgium|     50|          2|          285|      625.16|1425.1599999999999|\n",
      "|Belgium|     51|          2|          942|       800.0|           2225.16|\n",
      "|Finland|     50|          1|         1254|       892.8|             892.8|\n",
      "|  India|     48|          7|         2822|       300.0|             300.0|\n",
      "|  India|     49|          5|         1280|      3284.1|            3584.1|\n",
      "|  India|     50|          5|         1184|     2321.78|           5905.88|\n",
      "|  India|     51|          5|           95|       300.0|           5905.88|\n",
      "|  Italy|     48|          1|          164|       427.8|             427.8|\n",
      "|  Italy|     49|          1|           -2|       -17.0|             410.8|\n",
      "|  Italy|     51|          1|          131|       383.7|             794.5|\n",
      "+-------+-------+-----------+-------------+------------+------------------+\n",
      "only showing top 20 rows\n",
      "\n"
     ]
    }
   ],
   "source": [
    "result2.show()"
   ]
  },
  {
   "cell_type": "markdown",
   "id": "995c4fd3",
   "metadata": {},
   "source": [
    "## Windowing Functions"
   ]
  },
  {
   "cell_type": "markdown",
   "id": "53d76060",
   "metadata": {},
   "source": [
    "### 1. Rank Function"
   ]
  },
  {
   "cell_type": "code",
   "execution_count": 42,
   "id": "7ba4dd03",
   "metadata": {},
   "outputs": [],
   "source": [
    "my_orders3 = Window.partitionBy(\"country\").orderBy(desc(\"invoicevalue\"))"
   ]
  },
  {
   "cell_type": "code",
   "execution_count": 43,
   "id": "47a57647",
   "metadata": {},
   "outputs": [],
   "source": [
    "result3 = orders_df2.withColumn(\"rank\",rank().over(my_orders3))"
   ]
  },
  {
   "cell_type": "code",
   "execution_count": 44,
   "id": "52e0e5ff",
   "metadata": {},
   "outputs": [
    {
     "name": "stdout",
     "output_type": "stream",
     "text": [
      "+-------+-------+-----------+-------------+------------+----+\n",
      "|country|weeknum|numinvoices|totalquantity|invoicevalue|rank|\n",
      "+-------+-------+-----------+-------------+------------+----+\n",
      "| Sweden|     50|          3|         3714|      2646.3|   1|\n",
      "|Germany|     49|         12|         1852|      1800.0|   1|\n",
      "|Germany|     50|         15|         1973|      1800.0|   1|\n",
      "|Germany|     48|         11|         1795|      1600.0|   3|\n",
      "|Germany|     51|          5|         1103|      1600.0|   3|\n",
      "| France|     50|          6|          529|      537.32|   1|\n",
      "| France|     51|          5|          847|       500.0|   2|\n",
      "| France|     49|          9|         2303|       500.0|   2|\n",
      "| France|     48|          4|         1299|       500.0|   2|\n",
      "|Belgium|     48|          1|          528|       800.0|   1|\n",
      "|Belgium|     51|          2|          942|       800.0|   1|\n",
      "|Belgium|     50|          2|          285|      625.16|   3|\n",
      "|Finland|     50|          1|         1254|       892.8|   1|\n",
      "|  India|     49|          5|         1280|      3284.1|   1|\n",
      "|  India|     50|          5|         1184|     2321.78|   2|\n",
      "|  India|     51|          5|           95|       300.0|   3|\n",
      "|  India|     48|          7|         2822|       300.0|   3|\n",
      "|  Italy|     48|          1|          164|       427.8|   1|\n",
      "|  Italy|     51|          1|          131|       383.7|   2|\n",
      "|  Italy|     49|          1|           -2|       -17.0|   3|\n",
      "+-------+-------+-----------+-------------+------------+----+\n",
      "only showing top 20 rows\n",
      "\n"
     ]
    }
   ],
   "source": [
    "result3.show()"
   ]
  },
  {
   "cell_type": "markdown",
   "id": "b51f5c3c",
   "metadata": {},
   "source": [
    "### 2. Dense Rank"
   ]
  },
  {
   "cell_type": "code",
   "execution_count": 45,
   "id": "79b12f44",
   "metadata": {},
   "outputs": [],
   "source": [
    "my_orders4 = Window.partitionBy(\"country\").orderBy(desc(\"invoicevalue\"))"
   ]
  },
  {
   "cell_type": "code",
   "execution_count": 46,
   "id": "d744a824",
   "metadata": {},
   "outputs": [],
   "source": [
    "result4 = orders_df2.withColumn(\"rank\",dense_rank().over(my_orders4))"
   ]
  },
  {
   "cell_type": "code",
   "execution_count": 47,
   "id": "0db19d3e",
   "metadata": {},
   "outputs": [
    {
     "name": "stdout",
     "output_type": "stream",
     "text": [
      "+-------+-------+-----------+-------------+------------+----+\n",
      "|country|weeknum|numinvoices|totalquantity|invoicevalue|rank|\n",
      "+-------+-------+-----------+-------------+------------+----+\n",
      "| Sweden|     50|          3|         3714|      2646.3|   1|\n",
      "|Germany|     49|         12|         1852|      1800.0|   1|\n",
      "|Germany|     50|         15|         1973|      1800.0|   1|\n",
      "|Germany|     48|         11|         1795|      1600.0|   2|\n",
      "|Germany|     51|          5|         1103|      1600.0|   2|\n",
      "| France|     50|          6|          529|      537.32|   1|\n",
      "| France|     51|          5|          847|       500.0|   2|\n",
      "| France|     49|          9|         2303|       500.0|   2|\n",
      "| France|     48|          4|         1299|       500.0|   2|\n",
      "|Belgium|     48|          1|          528|       800.0|   1|\n",
      "|Belgium|     51|          2|          942|       800.0|   1|\n",
      "|Belgium|     50|          2|          285|      625.16|   2|\n",
      "|Finland|     50|          1|         1254|       892.8|   1|\n",
      "|  India|     49|          5|         1280|      3284.1|   1|\n",
      "|  India|     50|          5|         1184|     2321.78|   2|\n",
      "|  India|     51|          5|           95|       300.0|   3|\n",
      "|  India|     48|          7|         2822|       300.0|   3|\n",
      "|  Italy|     48|          1|          164|       427.8|   1|\n",
      "|  Italy|     51|          1|          131|       383.7|   2|\n",
      "|  Italy|     49|          1|           -2|       -17.0|   3|\n",
      "+-------+-------+-----------+-------------+------------+----+\n",
      "only showing top 20 rows\n",
      "\n"
     ]
    }
   ],
   "source": [
    "result4.show()"
   ]
  },
  {
   "cell_type": "markdown",
   "id": "7aa7a52b",
   "metadata": {},
   "source": [
    "### 3. Row Number"
   ]
  },
  {
   "cell_type": "code",
   "execution_count": 4,
   "id": "acaf1596",
   "metadata": {},
   "outputs": [],
   "source": [
    "my_orders5 = Window.partitionBy(\"country\").orderBy(\"invoicevalue\")"
   ]
  },
  {
   "cell_type": "code",
   "execution_count": 7,
   "id": "f741bd75",
   "metadata": {},
   "outputs": [],
   "source": [
    "result5 = orders_df2.withColumn(\"rank\",row_number().over(my_orders5))"
   ]
  },
  {
   "cell_type": "code",
   "execution_count": 8,
   "id": "5c2a57f6",
   "metadata": {},
   "outputs": [
    {
     "name": "stdout",
     "output_type": "stream",
     "text": [
      "+-------+-------+-----------+-------------+------------+----+\n",
      "|country|weeknum|numinvoices|totalquantity|invoicevalue|rank|\n",
      "+-------+-------+-----------+-------------+------------+----+\n",
      "| Sweden|     50|          3|         3714|      2646.3|   1|\n",
      "|Germany|     48|         11|         1795|      1600.0|   1|\n",
      "|Germany|     51|          5|         1103|      1600.0|   2|\n",
      "|Germany|     49|         12|         1852|      1800.0|   3|\n",
      "|Germany|     50|         15|         1973|      1800.0|   4|\n",
      "| France|     51|          5|          847|       500.0|   1|\n",
      "| France|     49|          9|         2303|       500.0|   2|\n",
      "| France|     48|          4|         1299|       500.0|   3|\n",
      "| France|     50|          6|          529|      537.32|   4|\n",
      "|Belgium|     50|          2|          285|      625.16|   1|\n",
      "|Belgium|     48|          1|          528|       800.0|   2|\n",
      "|Belgium|     51|          2|          942|       800.0|   3|\n",
      "|Finland|     50|          1|         1254|       892.8|   1|\n",
      "|  India|     51|          5|           95|       300.0|   1|\n",
      "|  India|     48|          7|         2822|       300.0|   2|\n",
      "|  India|     50|          5|         1184|     2321.78|   3|\n",
      "|  India|     49|          5|         1280|      3284.1|   4|\n",
      "|  Italy|     49|          1|           -2|       -17.0|   1|\n",
      "|  Italy|     51|          1|          131|       383.7|   2|\n",
      "|  Italy|     48|          1|          164|       427.8|   3|\n",
      "+-------+-------+-----------+-------------+------------+----+\n",
      "only showing top 20 rows\n",
      "\n"
     ]
    }
   ],
   "source": [
    "result5.show()"
   ]
  },
  {
   "cell_type": "code",
   "execution_count": 9,
   "id": "84fe1716",
   "metadata": {},
   "outputs": [
    {
     "name": "stdout",
     "output_type": "stream",
     "text": [
      "+---------------+-------+-----------+-------------+------------+----+\n",
      "|        country|weeknum|numinvoices|totalquantity|invoicevalue|rank|\n",
      "+---------------+-------+-----------+-------------+------------+----+\n",
      "|         Sweden|     50|          3|         3714|      2646.3|   1|\n",
      "|        Germany|     48|         11|         1795|      1600.0|   1|\n",
      "|         France|     51|          5|          847|       500.0|   1|\n",
      "|        Belgium|     50|          2|          285|      625.16|   1|\n",
      "|        Finland|     50|          1|         1254|       892.8|   1|\n",
      "|          India|     51|          5|           95|       300.0|   1|\n",
      "|          Italy|     49|          1|           -2|       -17.0|   1|\n",
      "|      Lithuania|     49|          1|           30|        63.0|   1|\n",
      "|         Norway|     49|          1|         1730|     1867.98|   1|\n",
      "|          Spain|     49|          1|           67|      174.72|   1|\n",
      "|        Denmark|     49|          1|          454|      1281.5|   1|\n",
      "|        Iceland|     49|          1|          319|      711.79|   1|\n",
      "|         Israel|     50|          1|          -56|     -227.44|   1|\n",
      "|Channel Islands|     49|          1|           80|      363.53|   1|\n",
      "|         Cyprus|     50|          1|          917|     1590.82|   1|\n",
      "|    Switzerland|     48|          1|          110|       303.4|   1|\n",
      "|          Japan|     48|          1|          196|      320.08|   1|\n",
      "|         Poland|     48|          1|          140|      248.16|   1|\n",
      "|       Portugal|     48|          1|           65|       131.8|   1|\n",
      "|      Australia|     49|          1|          214|       258.9|   1|\n",
      "+---------------+-------+-----------+-------------+------------+----+\n",
      "only showing top 20 rows\n",
      "\n"
     ]
    }
   ],
   "source": [
    "result5.select(\"*\").where(\"rank==1\").show()"
   ]
  },
  {
   "cell_type": "code",
   "execution_count": 10,
   "id": "f2fd5d71",
   "metadata": {},
   "outputs": [
    {
     "name": "stdout",
     "output_type": "stream",
     "text": [
      "+---------------+-------+-----------+-------------+------------+\n",
      "|        country|weeknum|numinvoices|totalquantity|invoicevalue|\n",
      "+---------------+-------+-----------+-------------+------------+\n",
      "|         Sweden|     50|          3|         3714|      2646.3|\n",
      "|        Germany|     48|         11|         1795|      1600.0|\n",
      "|         France|     51|          5|          847|       500.0|\n",
      "|        Belgium|     50|          2|          285|      625.16|\n",
      "|        Finland|     50|          1|         1254|       892.8|\n",
      "|          India|     51|          5|           95|       300.0|\n",
      "|          Italy|     49|          1|           -2|       -17.0|\n",
      "|      Lithuania|     49|          1|           30|        63.0|\n",
      "|         Norway|     49|          1|         1730|     1867.98|\n",
      "|          Spain|     49|          1|           67|      174.72|\n",
      "|        Denmark|     49|          1|          454|      1281.5|\n",
      "|        Iceland|     49|          1|          319|      711.79|\n",
      "|         Israel|     50|          1|          -56|     -227.44|\n",
      "|Channel Islands|     49|          1|           80|      363.53|\n",
      "|         Cyprus|     50|          1|          917|     1590.82|\n",
      "|    Switzerland|     48|          1|          110|       303.4|\n",
      "|          Japan|     48|          1|          196|      320.08|\n",
      "|         Poland|     48|          1|          140|      248.16|\n",
      "|       Portugal|     48|          1|           65|       131.8|\n",
      "|      Australia|     49|          1|          214|       258.9|\n",
      "+---------------+-------+-----------+-------------+------------+\n",
      "only showing top 20 rows\n",
      "\n"
     ]
    }
   ],
   "source": [
    "result5.select(\"*\").where(\"rank==1\").drop(\"rank\").show()"
   ]
  },
  {
   "cell_type": "code",
   "execution_count": 11,
   "id": "ff39d34e",
   "metadata": {},
   "outputs": [
    {
     "name": "stdout",
     "output_type": "stream",
     "text": [
      "+---------+-------+-----------+-------------+------------+----+\n",
      "|  country|weeknum|numinvoices|totalquantity|invoicevalue|rank|\n",
      "+---------+-------+-----------+-------------+------------+----+\n",
      "|   Sweden|     50|          3|         3714|      2646.3|   1|\n",
      "|  Germany|     48|         11|         1795|      1600.0|   1|\n",
      "|  Germany|     51|          5|         1103|      1600.0|   2|\n",
      "|   France|     51|          5|          847|       500.0|   1|\n",
      "|   France|     49|          9|         2303|       500.0|   2|\n",
      "|  Belgium|     50|          2|          285|      625.16|   1|\n",
      "|  Belgium|     48|          1|          528|       800.0|   2|\n",
      "|  Finland|     50|          1|         1254|       892.8|   1|\n",
      "|    India|     51|          5|           95|       300.0|   1|\n",
      "|    India|     48|          7|         2822|       300.0|   2|\n",
      "|    Italy|     49|          1|           -2|       -17.0|   1|\n",
      "|    Italy|     51|          1|          131|       383.7|   2|\n",
      "|Lithuania|     49|          1|           30|        63.0|   1|\n",
      "|Lithuania|     48|          3|          622|     1598.06|   2|\n",
      "|   Norway|     49|          1|         1730|     1867.98|   1|\n",
      "|   Norway|     48|          1|         1852|     1919.14|   2|\n",
      "|    Spain|     49|          1|           67|      174.72|   1|\n",
      "|    Spain|     48|          1|          400|       620.0|   2|\n",
      "|  Denmark|     49|          1|          454|      1281.5|   1|\n",
      "|  Iceland|     49|          1|          319|      711.79|   1|\n",
      "+---------+-------+-----------+-------------+------------+----+\n",
      "only showing top 20 rows\n",
      "\n"
     ]
    }
   ],
   "source": [
    "result5.select(\"*\").where(\"rank<3\").show()"
   ]
  },
  {
   "cell_type": "markdown",
   "id": "703624ea",
   "metadata": {},
   "source": [
    "### Lag Function"
   ]
  },
  {
   "cell_type": "code",
   "execution_count": 12,
   "id": "baf5276e",
   "metadata": {},
   "outputs": [],
   "source": [
    "my_orders6 = Window.partitionBy(\"country\").orderBy(\"weeknum\")"
   ]
  },
  {
   "cell_type": "code",
   "execution_count": 16,
   "id": "0e75a3ea",
   "metadata": {},
   "outputs": [],
   "source": [
    "result6 = orders_df2.withColumn(\"previous_week\",lag(\"invoicevalue\").over(my_orders6))"
   ]
  },
  {
   "cell_type": "code",
   "execution_count": 17,
   "id": "6b738b1d",
   "metadata": {},
   "outputs": [
    {
     "name": "stdout",
     "output_type": "stream",
     "text": [
      "+-------+-------+-----------+-------------+------------+-------------+\n",
      "|country|weeknum|numinvoices|totalquantity|invoicevalue|previous_week|\n",
      "+-------+-------+-----------+-------------+------------+-------------+\n",
      "| Sweden|     50|          3|         3714|      2646.3|         null|\n",
      "|Germany|     48|         11|         1795|      1600.0|         null|\n",
      "|Germany|     49|         12|         1852|      1800.0|       1600.0|\n",
      "|Germany|     50|         15|         1973|      1800.0|       1800.0|\n",
      "|Germany|     51|          5|         1103|      1600.0|       1800.0|\n",
      "| France|     48|          4|         1299|       500.0|         null|\n",
      "| France|     49|          9|         2303|       500.0|        500.0|\n",
      "| France|     50|          6|          529|      537.32|        500.0|\n",
      "| France|     51|          5|          847|       500.0|       537.32|\n",
      "|Belgium|     48|          1|          528|       800.0|         null|\n",
      "|Belgium|     50|          2|          285|      625.16|        800.0|\n",
      "|Belgium|     51|          2|          942|       800.0|       625.16|\n",
      "|Finland|     50|          1|         1254|       892.8|         null|\n",
      "|  India|     48|          7|         2822|       300.0|         null|\n",
      "|  India|     49|          5|         1280|      3284.1|        300.0|\n",
      "|  India|     50|          5|         1184|     2321.78|       3284.1|\n",
      "|  India|     51|          5|           95|       300.0|      2321.78|\n",
      "|  Italy|     48|          1|          164|       427.8|         null|\n",
      "|  Italy|     49|          1|           -2|       -17.0|        427.8|\n",
      "|  Italy|     51|          1|          131|       383.7|        -17.0|\n",
      "+-------+-------+-----------+-------------+------------+-------------+\n",
      "only showing top 20 rows\n",
      "\n"
     ]
    }
   ],
   "source": [
    "result6.show()"
   ]
  },
  {
   "cell_type": "code",
   "execution_count": 26,
   "id": "6ce96d8c",
   "metadata": {},
   "outputs": [],
   "source": [
    "lag_result = result6.withColumn(\"invoice_diff\",expr(\"invoicevalue - previous_week\"))"
   ]
  },
  {
   "cell_type": "code",
   "execution_count": 27,
   "id": "57c0207c",
   "metadata": {},
   "outputs": [
    {
     "name": "stdout",
     "output_type": "stream",
     "text": [
      "+-------+-------+-----------+-------------+------------+-------------+-------------------+\n",
      "|country|weeknum|numinvoices|totalquantity|invoicevalue|previous_week|       invoice_diff|\n",
      "+-------+-------+-----------+-------------+------------+-------------+-------------------+\n",
      "| Sweden|     50|          3|         3714|      2646.3|         null|               null|\n",
      "|Germany|     48|         11|         1795|      1600.0|         null|               null|\n",
      "|Germany|     49|         12|         1852|      1800.0|       1600.0|              200.0|\n",
      "|Germany|     50|         15|         1973|      1800.0|       1800.0|                0.0|\n",
      "|Germany|     51|          5|         1103|      1600.0|       1800.0|             -200.0|\n",
      "| France|     48|          4|         1299|       500.0|         null|               null|\n",
      "| France|     49|          9|         2303|       500.0|        500.0|                0.0|\n",
      "| France|     50|          6|          529|      537.32|        500.0|  37.32000000000005|\n",
      "| France|     51|          5|          847|       500.0|       537.32| -37.32000000000005|\n",
      "|Belgium|     48|          1|          528|       800.0|         null|               null|\n",
      "|Belgium|     50|          2|          285|      625.16|        800.0|-174.84000000000003|\n",
      "|Belgium|     51|          2|          942|       800.0|       625.16| 174.84000000000003|\n",
      "|Finland|     50|          1|         1254|       892.8|         null|               null|\n",
      "|  India|     48|          7|         2822|       300.0|         null|               null|\n",
      "|  India|     49|          5|         1280|      3284.1|        300.0|             2984.1|\n",
      "|  India|     50|          5|         1184|     2321.78|       3284.1| -962.3199999999997|\n",
      "|  India|     51|          5|           95|       300.0|      2321.78|-2021.7800000000002|\n",
      "|  Italy|     48|          1|          164|       427.8|         null|               null|\n",
      "|  Italy|     49|          1|           -2|       -17.0|        427.8|             -444.8|\n",
      "|  Italy|     51|          1|          131|       383.7|        -17.0|              400.7|\n",
      "+-------+-------+-----------+-------------+------------+-------------+-------------------+\n",
      "only showing top 20 rows\n",
      "\n"
     ]
    }
   ],
   "source": [
    "lag_result.show()"
   ]
  },
  {
   "cell_type": "markdown",
   "id": "14e4dfa8",
   "metadata": {},
   "source": [
    "### Lead Function"
   ]
  },
  {
   "cell_type": "code",
   "execution_count": 30,
   "id": "0d317dd5",
   "metadata": {},
   "outputs": [],
   "source": [
    "result7 = orders_df2.withColumn(\"upper_week\",lead(\"invoicevalue\").over(my_orders6))"
   ]
  },
  {
   "cell_type": "code",
   "execution_count": 31,
   "id": "078e8497",
   "metadata": {},
   "outputs": [
    {
     "name": "stdout",
     "output_type": "stream",
     "text": [
      "+-------+-------+-----------+-------------+------------+----------+\n",
      "|country|weeknum|numinvoices|totalquantity|invoicevalue|upper_week|\n",
      "+-------+-------+-----------+-------------+------------+----------+\n",
      "| Sweden|     50|          3|         3714|      2646.3|      null|\n",
      "|Germany|     48|         11|         1795|      1600.0|    1800.0|\n",
      "|Germany|     49|         12|         1852|      1800.0|    1800.0|\n",
      "|Germany|     50|         15|         1973|      1800.0|    1600.0|\n",
      "|Germany|     51|          5|         1103|      1600.0|      null|\n",
      "| France|     48|          4|         1299|       500.0|     500.0|\n",
      "| France|     49|          9|         2303|       500.0|    537.32|\n",
      "| France|     50|          6|          529|      537.32|     500.0|\n",
      "| France|     51|          5|          847|       500.0|      null|\n",
      "|Belgium|     48|          1|          528|       800.0|    625.16|\n",
      "|Belgium|     50|          2|          285|      625.16|     800.0|\n",
      "|Belgium|     51|          2|          942|       800.0|      null|\n",
      "|Finland|     50|          1|         1254|       892.8|      null|\n",
      "|  India|     48|          7|         2822|       300.0|    3284.1|\n",
      "|  India|     49|          5|         1280|      3284.1|   2321.78|\n",
      "|  India|     50|          5|         1184|     2321.78|     300.0|\n",
      "|  India|     51|          5|           95|       300.0|      null|\n",
      "|  Italy|     48|          1|          164|       427.8|     -17.0|\n",
      "|  Italy|     49|          1|           -2|       -17.0|     383.7|\n",
      "|  Italy|     51|          1|          131|       383.7|      null|\n",
      "+-------+-------+-----------+-------------+------------+----------+\n",
      "only showing top 20 rows\n",
      "\n"
     ]
    }
   ],
   "source": [
    "result7.show()"
   ]
  },
  {
   "cell_type": "code",
   "execution_count": 37,
   "id": "a9002d8e",
   "metadata": {},
   "outputs": [],
   "source": [
    "lead_result = result7.withColumn(\"invoice_diff\",expr(\"upper_week - invoicevalue\"))"
   ]
  },
  {
   "cell_type": "code",
   "execution_count": 38,
   "id": "6f422178",
   "metadata": {},
   "outputs": [
    {
     "name": "stdout",
     "output_type": "stream",
     "text": [
      "+-------+-------+-----------+-------------+------------+----------+-------------------+\n",
      "|country|weeknum|numinvoices|totalquantity|invoicevalue|upper_week|       invoice_diff|\n",
      "+-------+-------+-----------+-------------+------------+----------+-------------------+\n",
      "| Sweden|     50|          3|         3714|      2646.3|      null|               null|\n",
      "|Germany|     48|         11|         1795|      1600.0|    1800.0|              200.0|\n",
      "|Germany|     49|         12|         1852|      1800.0|    1800.0|                0.0|\n",
      "|Germany|     50|         15|         1973|      1800.0|    1600.0|             -200.0|\n",
      "|Germany|     51|          5|         1103|      1600.0|      null|               null|\n",
      "| France|     48|          4|         1299|       500.0|     500.0|                0.0|\n",
      "| France|     49|          9|         2303|       500.0|    537.32|  37.32000000000005|\n",
      "| France|     50|          6|          529|      537.32|     500.0| -37.32000000000005|\n",
      "| France|     51|          5|          847|       500.0|      null|               null|\n",
      "|Belgium|     48|          1|          528|       800.0|    625.16|-174.84000000000003|\n",
      "|Belgium|     50|          2|          285|      625.16|     800.0| 174.84000000000003|\n",
      "|Belgium|     51|          2|          942|       800.0|      null|               null|\n",
      "|Finland|     50|          1|         1254|       892.8|      null|               null|\n",
      "|  India|     48|          7|         2822|       300.0|    3284.1|             2984.1|\n",
      "|  India|     49|          5|         1280|      3284.1|   2321.78| -962.3199999999997|\n",
      "|  India|     50|          5|         1184|     2321.78|     300.0|-2021.7800000000002|\n",
      "|  India|     51|          5|           95|       300.0|      null|               null|\n",
      "|  Italy|     48|          1|          164|       427.8|     -17.0|             -444.8|\n",
      "|  Italy|     49|          1|           -2|       -17.0|     383.7|              400.7|\n",
      "|  Italy|     51|          1|          131|       383.7|      null|               null|\n",
      "+-------+-------+-----------+-------------+------------+----------+-------------------+\n",
      "only showing top 20 rows\n",
      "\n"
     ]
    }
   ],
   "source": [
    "lead_result.show()"
   ]
  },
  {
   "cell_type": "code",
   "execution_count": null,
   "id": "1f0506b4",
   "metadata": {},
   "outputs": [],
   "source": []
  }
 ],
 "metadata": {
  "kernelspec": {
   "display_name": "Pyspark 3",
   "language": "python",
   "name": "pyspark3"
  },
  "language_info": {
   "codemirror_mode": {
    "name": "ipython",
    "version": 3
   },
   "file_extension": ".py",
   "mimetype": "text/x-python",
   "name": "python",
   "nbconvert_exporter": "python",
   "pygments_lexer": "ipython3",
   "version": "3.6.12"
  }
 },
 "nbformat": 4,
 "nbformat_minor": 5
}
